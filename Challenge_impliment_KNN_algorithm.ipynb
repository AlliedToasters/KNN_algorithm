{
 "cells": [
  {
   "cell_type": "markdown",
   "metadata": {},
   "source": [
    "\n",
    "## Challenge: Implement the Nearest Neighbor algorithm \n",
    "\n",
    "The Nearest Neighbor algorithm is extremely simple. So simple, in fact, that you should be able to build it yourself from scratch using the Python you already know. Code a Nearest Neighbors algorithm that works for two dimensional data. You can use either arrays or dataframes to do this. Test it against the SKLearn package on the music dataset from above to ensure that it's correct. The goal here is to confirm your understanding of the model and continue to practice your Python skills. We're just expecting a brute force method here. After doing this, look up \"ball tree\" methods to see a more performant algorithm design."
   ]
  },
  {
   "cell_type": "code",
   "execution_count": 14,
   "metadata": {
    "collapsed": true,
    "run_control": {
     "frozen": false,
     "read_only": false
    }
   },
   "outputs": [],
   "source": [
    "import numpy as np\n",
    "import pandas as pd\n",
    "import matplotlib.pyplot as plt\n",
    "import scipy\n",
    "%matplotlib inline"
   ]
  },
  {
   "cell_type": "code",
   "execution_count": 15,
   "metadata": {
    "run_control": {
     "frozen": false,
     "read_only": false
    }
   },
   "outputs": [
    {
     "data": {
      "image/png": "[encoded data removed]",
      "text/plain": [
       "<matplotlib.figure.Figure at 0x7f9c5fccd898>"
      ]
     },
     "metadata": {},
     "output_type": "display_data"
    }
   ],
   "source": [
    "music = pd.DataFrame()\n",
    "\n",
    "# Some data to play with.\n",
    "music['duration'] = [184, 134, 243, 186, 122, 197, 294, 382, 102, 264, \n",
    "                     205, 110, 307, 110, 397, 153, 190, 192, 210, 403,\n",
    "                     164, 198, 204, 253, 234, 190, 182, 401, 376, 102]\n",
    "music['loudness'] = [18, 34, 43, 36, 22, 9, 29, 22, 10, 24, \n",
    "                     20, 10, 17, 51, 7, 13, 19, 12, 21, 22,\n",
    "                     16, 18, 4, 23, 34, 19, 14, 11, 37, 42]\n",
    "\n",
    "# We know whether the songs in our training data are jazz or not.\n",
    "music['jazz'] = [ 1, 0, 0, 0, 1, 1, 0, 1, 1, 0,\n",
    "                  0, 1, 1, 0, 1, 1, 0, 1, 1, 1,\n",
    "                  1, 1, 1, 1, 0, 0, 1, 1, 0, 0]\n",
    "\n",
    "\n",
    "# Look at our data.\n",
    "plt.scatter(\n",
    "    music[music['jazz'] == 1].duration,\n",
    "    music[music['jazz'] == 1].loudness,\n",
    "    label='Jazz',\n",
    "    color='red'\n",
    ")\n",
    "plt.scatter(\n",
    "    music[music['jazz'] == 0].duration,\n",
    "    music[music['jazz'] == 0].loudness,\n",
    "    label='Rock',\n",
    "    color='blue'\n",
    ")\n",
    "plt.scatter(\n",
    "    190, 24, label='Test point', color='green'\n",
    ")\n",
    "plt.legend();\n",
    "plt.title('Jazz and Rock Characteristics');\n",
    "plt.xlabel('Duration');\n",
    "plt.ylabel('Loudness');\n",
    "plt.show();"
   ]
  },
  {
   "cell_type": "code",
   "execution_count": 16,
   "metadata": {
    "collapsed": true
   },
   "outputs": [],
   "source": [
    "# This is my brute-force algorithm\n",
    "from collections import Counter\n",
    "from math import sqrt\n",
    "\n",
    "class KNN_Model(object):\n",
    "    \"\"\"A simple KNN model that works with Pandas dataframe data\n",
    "    exclusively in two dimensions.\n",
    "    \"\"\"\n",
    "    col = ['x_val', 'y_val', 'category', 'distance']\n",
    "    def __init__(self):\n",
    "        pass\n",
    "    \n",
    "    def train(self, features, target, data):\n",
    "        \"\"\"Takes a list or tuple (\"features\") of strings specifying training data,\n",
    "        string (\"target\") specifying outcome variable, and dataframe(\"data\").\n",
    "        Fits model.\n",
    "        \"\"\"\n",
    "        self.points = pd.DataFrame(columns=self.col, index=range(len(data)))\n",
    "        for row in data.index:\n",
    "            next_row = [data.iloc[row][features[0]], data.iloc[row][features[1]], data.iloc[row][target], np.nan]\n",
    "            self.points.iloc[row] = next_row\n",
    "        return self\n",
    "            \n",
    "    def predict(self, x_y, n_neighbors=1):\n",
    "        \"\"\"Takes a point (tuple) and returns the \"winning\" category based on\n",
    "        specified number of neighbors(\"n_neighbors\").\n",
    "        In case of tie, returns first in list (arbitrary).\n",
    "        \"\"\"\n",
    "        for point in self.points.index:\n",
    "            d = sqrt((self.points.iloc[point].x_val - x_y[0])**2 + (self.points.iloc[point].y_val - x_y[1])**2) #Evaluate Euclidian distance from point\n",
    "            self.points.set_value(point, 'distance', d) #record distance\n",
    "        votes = []\n",
    "        for n in range(n_neighbors):\n",
    "            min_d_id = self.points.distance.idxmin() #get index for row where distance is min\n",
    "            votes.append(self.points.iloc[min_d_id].category) #record category for closest point\n",
    "            self.points.set_value(min_d_id, 'distance', np.nan) #reset distance value to null\n",
    "        votes_count = dict(Counter(votes))\n",
    "        return max(votes_count, key=votes_count.get)\n",
    "            \n",
    "            "
   ]
  },
  {
   "cell_type": "code",
   "execution_count": 17,
   "metadata": {
    "collapsed": true
   },
   "outputs": [],
   "source": [
    "my_model = KNN_Model()"
   ]
  },
  {
   "cell_type": "code",
   "execution_count": 18,
   "metadata": {},
   "outputs": [
    {
     "data": {
      "text/plain": [
       "<__main__.KNN_Model at 0x7f9c60593940>"
      ]
     },
     "execution_count": 18,
     "metadata": {},
     "output_type": "execute_result"
    }
   ],
   "source": [
    "my_model.train(features=['duration', 'loudness'], target='jazz', data=music)"
   ]
  },
  {
   "cell_type": "code",
   "execution_count": 19,
   "metadata": {},
   "outputs": [
    {
     "data": {
      "text/plain": [
       "0"
      ]
     },
     "execution_count": 19,
     "metadata": {},
     "output_type": "execute_result"
    }
   ],
   "source": [
    "# recall the example points, loudness 24 and duration 190.\n",
    "# Just one neighbor (default):\n",
    "my_model.predict((190, 24))"
   ]
  },
  {
   "cell_type": "code",
   "execution_count": 20,
   "metadata": {},
   "outputs": [
    {
     "data": {
      "text/plain": [
       "1"
      ]
     },
     "execution_count": 20,
     "metadata": {},
     "output_type": "execute_result"
    }
   ],
   "source": [
    "#We got not jazz!\n",
    "#With five neighbors?\n",
    "my_model.predict((190, 24), n_neighbors=5)"
   ]
  },
  {
   "cell_type": "code",
   "execution_count": 21,
   "metadata": {
    "collapsed": true
   },
   "outputs": [],
   "source": [
    "#Jazz! Looks like it worked!"
   ]
  },
  {
   "cell_type": "code",
   "execution_count": null,
   "metadata": {
    "collapsed": true
   },
   "outputs": [],
   "source": []
  }
 ],
 "metadata": {
  "hide_input": false,
  "kernelspec": {
   "display_name": "Python 3",
   "language": "python",
   "name": "python3"
  },
  "language_info": {
   "codemirror_mode": {
    "name": "ipython",
    "version": 3
   },
   "file_extension": ".py",
   "mimetype": "text/x-python",
   "name": "python",
   "nbconvert_exporter": "python",
   "pygments_lexer": "ipython3",
   "version": "3.6.1"
  },
  "toc": {
   "colors": {
    "hover_highlight": "#DAA520",
    "running_highlight": "#FF0000",
    "selected_highlight": "#FFD700"
   },
   "moveMenuLeft": true,
   "nav_menu": {
    "height": "86px",
    "width": "252px"
   },
   "navigate_menu": true,
   "number_sections": true,
   "sideBar": true,
   "threshold": 4,
   "toc_cell": false,
   "toc_section_display": "block",
   "toc_window_display": false
  }
 },
 "nbformat": 4,
 "nbformat_minor": 2
}
